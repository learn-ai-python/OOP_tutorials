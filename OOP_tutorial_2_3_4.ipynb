{
  "nbformat": 4,
  "nbformat_minor": 0,
  "metadata": {
    "colab": {
      "provenance": [],
      "authorship_tag": "ABX9TyNVWjo9VyeJWncXiWLIzF7p",
      "include_colab_link": true
    },
    "kernelspec": {
      "name": "python3",
      "display_name": "Python 3"
    },
    "language_info": {
      "name": "python"
    }
  },
  "cells": [
    {
      "cell_type": "markdown",
      "metadata": {
        "id": "view-in-github",
        "colab_type": "text"
      },
      "source": [
        "<a href=\"https://colab.research.google.com/github/learn-ai-python/OOP_tutorials/blob/master/OOP_tutorial_2_3_4.ipynb\" target=\"_parent\"><img src=\"https://colab.research.google.com/assets/colab-badge.svg\" alt=\"Open In Colab\"/></a>"
      ]
    },
    {
      "cell_type": "code",
      "execution_count": 1,
      "metadata": {
        "id": "y1ktmPCJAWQm"
      },
      "outputs": [],
      "source": [
        "class Animals():\n",
        "  def __init__(self,\n",
        "               name1,\n",
        "               kind1,\n",
        "               weight1,\n",
        "               height1):\n",
        "    self.name = name1\n",
        "    self.kind = kind1\n",
        "    self.weight = weight1\n",
        "    self.height = height1\n",
        "\n",
        "  def move(self):\n",
        "    print(\"Moving\")\n",
        "\n",
        "  def talk(self):\n",
        "    print(\"U-u-u-u\")"
      ]
    },
    {
      "cell_type": "code",
      "source": [
        "animal = Animals(\"No-name\",\n",
        "                 \"no-kind\",\n",
        "                 0.5, 10)"
      ],
      "metadata": {
        "id": "GbrmHs4HFdWO"
      },
      "execution_count": 2,
      "outputs": []
    },
    {
      "cell_type": "code",
      "source": [
        "animal.name"
      ],
      "metadata": {
        "colab": {
          "base_uri": "https://localhost:8080/",
          "height": 35
        },
        "id": "PhrxF0xZF0fP",
        "outputId": "bb1b2e6c-c2f2-48e5-b474-2de5c382e035"
      },
      "execution_count": 3,
      "outputs": [
        {
          "output_type": "execute_result",
          "data": {
            "text/plain": [
              "'No-name'"
            ],
            "application/vnd.google.colaboratory.intrinsic+json": {
              "type": "string"
            }
          },
          "metadata": {},
          "execution_count": 3
        }
      ]
    },
    {
      "cell_type": "code",
      "source": [
        "animal.move()"
      ],
      "metadata": {
        "colab": {
          "base_uri": "https://localhost:8080/"
        },
        "id": "7LTnLM9YF1gD",
        "outputId": "76755f3f-f930-4d3a-b25b-fd69d2ea46c6"
      },
      "execution_count": 4,
      "outputs": [
        {
          "output_type": "stream",
          "name": "stdout",
          "text": [
            "Moving\n"
          ]
        }
      ]
    },
    {
      "cell_type": "code",
      "source": [
        "animal.talk()"
      ],
      "metadata": {
        "colab": {
          "base_uri": "https://localhost:8080/"
        },
        "id": "7abjMedIF26r",
        "outputId": "9dc3bfcd-2724-4a0a-827d-966867ad9c8a"
      },
      "execution_count": 5,
      "outputs": [
        {
          "output_type": "stream",
          "name": "stdout",
          "text": [
            "U-u-u-u\n"
          ]
        }
      ]
    },
    {
      "cell_type": "code",
      "source": [
        "class Birds(Animals):\n",
        "  def __init__(self,\n",
        "               name1,\n",
        "               kind1,\n",
        "               weight1,\n",
        "               height1):\n",
        "    super().__init__(name1,\n",
        "                     kind1,\n",
        "                     weight1,\n",
        "                     height1)\n",
        "\n",
        "  def move(self):\n",
        "    print(\"Flying\")\n",
        "\n",
        "  def talk(self):\n",
        "    print(\"Singing\")"
      ],
      "metadata": {
        "id": "GyAJh1IqAzPu"
      },
      "execution_count": 6,
      "outputs": []
    },
    {
      "cell_type": "code",
      "source": [
        "bird = Birds(\"Pako\",\n",
        "             \"warm-blooded\",\n",
        "             1.7, 0.52)"
      ],
      "metadata": {
        "id": "yXCBMBRVRzhL"
      },
      "execution_count": 7,
      "outputs": []
    },
    {
      "cell_type": "code",
      "source": [
        "bird.name"
      ],
      "metadata": {
        "colab": {
          "base_uri": "https://localhost:8080/",
          "height": 35
        },
        "id": "aHdKWs9uScjf",
        "outputId": "d812a295-7d96-46e4-f31f-a5b764666dd1"
      },
      "execution_count": 8,
      "outputs": [
        {
          "output_type": "execute_result",
          "data": {
            "text/plain": [
              "'Pako'"
            ],
            "application/vnd.google.colaboratory.intrinsic+json": {
              "type": "string"
            }
          },
          "metadata": {},
          "execution_count": 8
        }
      ]
    },
    {
      "cell_type": "code",
      "source": [
        "bird.move()"
      ],
      "metadata": {
        "colab": {
          "base_uri": "https://localhost:8080/"
        },
        "id": "IZaZ9b7-SeGb",
        "outputId": "8878d2a4-e658-4eb8-9a9e-0e16e7396e34"
      },
      "execution_count": 9,
      "outputs": [
        {
          "output_type": "stream",
          "name": "stdout",
          "text": [
            "Flying\n"
          ]
        }
      ]
    },
    {
      "cell_type": "code",
      "source": [
        "bird.talk()"
      ],
      "metadata": {
        "colab": {
          "base_uri": "https://localhost:8080/"
        },
        "id": "vY_MOqpYSeNN",
        "outputId": "b79576ff-51fe-4b39-d7eb-2a34be3416bb"
      },
      "execution_count": 10,
      "outputs": [
        {
          "output_type": "stream",
          "name": "stdout",
          "text": [
            "Singing\n"
          ]
        }
      ]
    },
    {
      "cell_type": "code",
      "source": [
        "class Mammals(Animals):\n",
        "  def __init__(self,\n",
        "               name1,\n",
        "               kind1,\n",
        "               weight1,\n",
        "               height1,\n",
        "               breed1,\n",
        "               color1):\n",
        "    super().__init__(name1,\n",
        "                     kind1,\n",
        "                     weight1,\n",
        "                     height1)\n",
        "\n",
        "    self.breed = breed1\n",
        "    self.color = color1\n",
        "\n",
        "  def move(self):\n",
        "    print(\"Moving as a mammal\")\n",
        "\n",
        "  def talk(self):\n",
        "    print(\"Talking as a mammal\")"
      ],
      "metadata": {
        "id": "2Nr1Gfa0DEpK"
      },
      "execution_count": 11,
      "outputs": []
    },
    {
      "cell_type": "code",
      "source": [
        "mammal = Mammals(\"Mammal\",\n",
        "                 \"warm-blooded\",\n",
        "                 100,\n",
        "                 2,\n",
        "                 \"giraffes\",\n",
        "                 \"ginger-black\")"
      ],
      "metadata": {
        "id": "AAmO8yE1IPhP"
      },
      "execution_count": 12,
      "outputs": []
    },
    {
      "cell_type": "code",
      "source": [
        "mammal.color"
      ],
      "metadata": {
        "colab": {
          "base_uri": "https://localhost:8080/",
          "height": 35
        },
        "id": "KET_0ONmLmyF",
        "outputId": "a6b7eab1-73e1-49ba-e374-f96809b3be4e"
      },
      "execution_count": 13,
      "outputs": [
        {
          "output_type": "execute_result",
          "data": {
            "text/plain": [
              "'ginger-black'"
            ],
            "application/vnd.google.colaboratory.intrinsic+json": {
              "type": "string"
            }
          },
          "metadata": {},
          "execution_count": 13
        }
      ]
    },
    {
      "cell_type": "code",
      "source": [
        "class Dog(Mammals):\n",
        "  def __init__(self,\n",
        "               name1,\n",
        "               kind1,\n",
        "               weight1,\n",
        "               height1,\n",
        "               breed1,\n",
        "               color1):\n",
        "    super().__init__(name1,\n",
        "                     kind1,\n",
        "                     weight1,\n",
        "                     height1,\n",
        "                     breed1,\n",
        "                     color1)\n",
        "\n",
        "  def move(self):\n",
        "    print(\"running with 50 km/h\")\n",
        "\n",
        "  def talk(self):\n",
        "    print(\"Bark\")"
      ],
      "metadata": {
        "id": "kSVukFnvD4Dq"
      },
      "execution_count": 14,
      "outputs": []
    },
    {
      "cell_type": "code",
      "source": [
        "dog = Dog(\"Rex\",\n",
        "          \"warm-blooded\",\n",
        "          30, 0.60,\n",
        "          \"German Shepherd\",\n",
        "          \"orange-black\")"
      ],
      "metadata": {
        "id": "v8qn3JAkNIc3"
      },
      "execution_count": 15,
      "outputs": []
    },
    {
      "cell_type": "code",
      "source": [
        "dog.name"
      ],
      "metadata": {
        "colab": {
          "base_uri": "https://localhost:8080/",
          "height": 35
        },
        "id": "Fiieq_JwNiJs",
        "outputId": "3e233cd1-4f2a-4f40-a5b9-ae33b215d14c"
      },
      "execution_count": 16,
      "outputs": [
        {
          "output_type": "execute_result",
          "data": {
            "text/plain": [
              "'Rex'"
            ],
            "application/vnd.google.colaboratory.intrinsic+json": {
              "type": "string"
            }
          },
          "metadata": {},
          "execution_count": 16
        }
      ]
    },
    {
      "cell_type": "code",
      "source": [
        "dog.move()"
      ],
      "metadata": {
        "colab": {
          "base_uri": "https://localhost:8080/"
        },
        "id": "ySC7e4uINkY4",
        "outputId": "db5a2f0c-507f-4f06-e998-11b7c878aa83"
      },
      "execution_count": 17,
      "outputs": [
        {
          "output_type": "stream",
          "name": "stdout",
          "text": [
            "running with 50 km/h\n"
          ]
        }
      ]
    },
    {
      "cell_type": "code",
      "source": [
        "dog.talk()"
      ],
      "metadata": {
        "colab": {
          "base_uri": "https://localhost:8080/"
        },
        "id": "HLD4gfzENmE9",
        "outputId": "0b395426-9028-4376-cc9a-762bf906b662"
      },
      "execution_count": 18,
      "outputs": [
        {
          "output_type": "stream",
          "name": "stdout",
          "text": [
            "Bark\n"
          ]
        }
      ]
    },
    {
      "cell_type": "code",
      "source": [
        "class Cats(Mammals):\n",
        "  def __init__(self,\n",
        "               name1,\n",
        "               kind1,\n",
        "               weight1,\n",
        "               height1,\n",
        "               breed1,\n",
        "               color1):\n",
        "    super().__init__(name1,\n",
        "                     kind1,\n",
        "                     weight1,\n",
        "                     height1,\n",
        "                     breed1,\n",
        "                     color1)\n",
        "\n",
        "  def move(self):\n",
        "    print(\"running with 45 km/h\")\n",
        "\n",
        "  def talk(self):\n",
        "    print(\"Meow\")"
      ],
      "metadata": {
        "id": "6pLaQlGxFDM-"
      },
      "execution_count": 19,
      "outputs": []
    },
    {
      "cell_type": "code",
      "source": [
        "cat = Cats(\"Kitty\",\n",
        "           \"warm-blooded\",\n",
        "           4, 0.24,\n",
        "           \"Siamese\",\n",
        "           \"white-black\")"
      ],
      "metadata": {
        "id": "5vLtA1LEFKAa"
      },
      "execution_count": 20,
      "outputs": []
    },
    {
      "cell_type": "code",
      "source": [
        "cat.name"
      ],
      "metadata": {
        "colab": {
          "base_uri": "https://localhost:8080/",
          "height": 35
        },
        "id": "m47fn7oYN8bM",
        "outputId": "356931e5-c39d-4fca-b179-dcd56bc2806f"
      },
      "execution_count": 21,
      "outputs": [
        {
          "output_type": "execute_result",
          "data": {
            "text/plain": [
              "'Kitty'"
            ],
            "application/vnd.google.colaboratory.intrinsic+json": {
              "type": "string"
            }
          },
          "metadata": {},
          "execution_count": 21
        }
      ]
    },
    {
      "cell_type": "code",
      "source": [
        "cat.move()"
      ],
      "metadata": {
        "colab": {
          "base_uri": "https://localhost:8080/"
        },
        "id": "zwJ-bx4-N9gG",
        "outputId": "df446dee-f6fd-448a-9e82-6e1b66351e94"
      },
      "execution_count": 22,
      "outputs": [
        {
          "output_type": "stream",
          "name": "stdout",
          "text": [
            "running with 45 km/h\n"
          ]
        }
      ]
    },
    {
      "cell_type": "code",
      "source": [
        "cat.talk()"
      ],
      "metadata": {
        "colab": {
          "base_uri": "https://localhost:8080/"
        },
        "id": "owHCc-OsN-bL",
        "outputId": "5fdd0463-e25a-4c84-8bbd-6c736c221e30"
      },
      "execution_count": 23,
      "outputs": [
        {
          "output_type": "stream",
          "name": "stdout",
          "text": [
            "Meow\n"
          ]
        }
      ]
    }
  ]
}