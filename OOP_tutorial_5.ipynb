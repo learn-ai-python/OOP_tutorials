{
  "nbformat": 4,
  "nbformat_minor": 0,
  "metadata": {
    "colab": {
      "provenance": [],
      "authorship_tag": "ABX9TyOCQB/3fjnFmbbsON53l63b",
      "include_colab_link": true
    },
    "kernelspec": {
      "name": "python3",
      "display_name": "Python 3"
    },
    "language_info": {
      "name": "python"
    }
  },
  "cells": [
    {
      "cell_type": "markdown",
      "metadata": {
        "id": "view-in-github",
        "colab_type": "text"
      },
      "source": [
        "<a href=\"https://colab.research.google.com/github/learn-ai-python/OOP_tutorials/blob/master/OOP_tutorial_5.ipynb\" target=\"_parent\"><img src=\"https://colab.research.google.com/assets/colab-badge.svg\" alt=\"Open In Colab\"/></a>"
      ]
    },
    {
      "cell_type": "code",
      "execution_count": 5,
      "metadata": {
        "id": "dzoDximZAhD3"
      },
      "outputs": [],
      "source": [
        "from abc import ABC, \\\n",
        "     abstractmethod"
      ]
    },
    {
      "cell_type": "code",
      "source": [
        "class Point(ABC):\n",
        "    @abstractmethod\n",
        "    def area_info(self):\n",
        "        pass"
      ],
      "metadata": {
        "id": "oEoOHtSh1QMZ"
      },
      "execution_count": 6,
      "outputs": []
    },
    {
      "cell_type": "code",
      "source": [
        "class Circle(Point):\n",
        "    # overriding an\n",
        "    # abstract method\n",
        "    def area_info(self):\n",
        "        print(\"Area = pi * r^2\")"
      ],
      "metadata": {
        "id": "bRAk3uuc3YE5"
      },
      "execution_count": 7,
      "outputs": []
    },
    {
      "cell_type": "code",
      "source": [
        "class Square(Point):\n",
        "    # overriding\n",
        "    # an abstract method\n",
        "    def area_info(self):\n",
        "        print(\"Area = a^2\")"
      ],
      "metadata": {
        "id": "eQRTR-Qp3ZhE"
      },
      "execution_count": 8,
      "outputs": []
    }
  ]
}